{
 "cells": [
  {
   "cell_type": "raw",
   "metadata": {},
   "source": [
    "write a function to determine if a given string is a palandrome\n",
    "\n",
    "a palindrome is a word or phrase that reads the same forward as backward\n",
    "\n",
    "Input\n",
    "output: boolean\n",
    "We ignore a case"
   ]
  },
  {
   "cell_type": "code",
   "execution_count": 33,
   "metadata": {},
   "outputs": [
    {
     "name": "stdout",
     "output_type": "stream",
     "text": [
      "your textkayak\n"
     ]
    }
   ],
   "source": [
    "def palindrome1(x):\n",
    "    \n",
    "    \n",
    "    forward=x.lower().replace(\" \", \"\")\n",
    "    back=forward[::-1]\n",
    "    return forward==back\n",
    "\n"
   ]
  },
  {
   "cell_type": "code",
   "execution_count": 36,
   "metadata": {},
   "outputs": [
    {
     "data": {
      "text/plain": [
       "False"
      ]
     },
     "execution_count": 36,
     "metadata": {},
     "output_type": "execute_result"
    }
   ],
   "source": [
    "palindrome1(\"hello\")"
   ]
  },
  {
   "cell_type": "code",
   "execution_count": 42,
   "metadata": {},
   "outputs": [],
   "source": [
    "#With regex\n",
    "import re\n",
    "def palindrome2(y):\n",
    "    forward=\"\".join(re.findall(r'[a-z]+',y.lower()))\n",
    "    backward=forward[::-1]\n",
    "    return forward==backward"
   ]
  },
  {
   "cell_type": "code",
   "execution_count": 45,
   "metadata": {},
   "outputs": [
    {
     "data": {
      "text/plain": [
       "True"
      ]
     },
     "execution_count": 45,
     "metadata": {},
     "output_type": "execute_result"
    }
   ],
   "source": [
    "palindrome2(\"kayak kayak\")"
   ]
  },
  {
   "cell_type": "code",
   "execution_count": 6,
   "metadata": {},
   "outputs": [],
   "source": [
    "def get_if_palindrome(text):\n",
    "    forwarder=text.lower().replace(\" \", \"\")\n",
    "    backworder=forwarder[::-1]\n",
    "    return forwarder==backworder"
   ]
  },
  {
   "cell_type": "code",
   "execution_count": 9,
   "metadata": {},
   "outputs": [
    {
     "data": {
      "text/plain": [
       "False"
      ]
     },
     "execution_count": 9,
     "metadata": {},
     "output_type": "execute_result"
    }
   ],
   "source": [
    "get_if_palindrome(\"kayak if\")"
   ]
  },
  {
   "cell_type": "code",
   "execution_count": null,
   "metadata": {},
   "outputs": [],
   "source": []
  }
 ],
 "metadata": {
  "kernelspec": {
   "display_name": "Python 3",
   "language": "python",
   "name": "python3"
  },
  "language_info": {
   "codemirror_mode": {
    "name": "ipython",
    "version": 3
   },
   "file_extension": ".py",
   "mimetype": "text/x-python",
   "name": "python",
   "nbconvert_exporter": "python",
   "pygments_lexer": "ipython3",
   "version": "3.7.3"
  }
 },
 "nbformat": 4,
 "nbformat_minor": 2
}
