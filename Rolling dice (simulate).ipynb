{
 "cells": [
  {
   "cell_type": "raw",
   "metadata": {},
   "source": [
    "write a function to determine the probablity of certain outcomes when rolling dice\n",
    "using monte carlo method\n",
    "input: variable number of arguments for sides of dice\n",
    "output : table of probability for each possiblity outcome\n",
    "exp: roll_dice(4,6,6)"
   ]
  },
  {
   "cell_type": "code",
   "execution_count": 39,
   "metadata": {},
   "outputs": [],
   "source": [
    "import random \n",
    "from collections import Counter # count how ofen outcome occurred\n",
    "\n",
    "def roll_dice(*dice, num_trials=1000000):\n",
    "    counts=Counter()\n",
    "    for roll in range(num_trials): # number epoch\n",
    "        counts[sum((random.randint(1,sides) for sides in dice ))] +=1\n",
    "    print('\\OUTCOME\\tPROBABILITY')\n",
    "\n",
    "    for outcome in range(len(dice),sum(dice)+1):\n",
    "        print('{}\\t{:0.2f}%'.format(outcome,counts[outcome]*100/num_trials))"
   ]
  },
  {
   "cell_type": "code",
   "execution_count": 41,
   "metadata": {},
   "outputs": [
    {
     "name": "stdout",
     "output_type": "stream",
     "text": [
      "\\OUTCOME\tPROBABILITY\n",
      "3\t0.83%\n",
      "4\t2.51%\n",
      "5\t4.95%\n",
      "6\t8.33%\n",
      "7\t11.65%\n",
      "8\t14.20%\n",
      "9\t15.05%\n",
      "10\t14.13%\n",
      "11\t11.63%\n",
      "12\t8.34%\n",
      "13\t5.04%\n",
      "14\t2.52%\n",
      "15\t0.83%\n"
     ]
    }
   ],
   "source": [
    "roll_dice(4,6,5)"
   ]
  },
  {
   "cell_type": "code",
   "execution_count": null,
   "metadata": {},
   "outputs": [],
   "source": []
  }
 ],
 "metadata": {
  "kernelspec": {
   "display_name": "Python 3",
   "language": "python",
   "name": "python3"
  },
  "language_info": {
   "codemirror_mode": {
    "name": "ipython",
    "version": 3
   },
   "file_extension": ".py",
   "mimetype": "text/x-python",
   "name": "python",
   "nbconvert_exporter": "python",
   "pygments_lexer": "ipython3",
   "version": "3.7.3"
  }
 },
 "nbformat": 4,
 "nbformat_minor": 2
}
