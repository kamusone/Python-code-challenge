{
 "cells": [
  {
   "cell_type": "raw",
   "metadata": {},
   "source": [
    "write function that count nubmer of all word from file.txt and and display a top 20 of count of each word "
   ]
  },
  {
   "cell_type": "code",
   "execution_count": 2,
   "metadata": {},
   "outputs": [],
   "source": [
    "pat=\"C:/Users/kbenayad/Desktop/exemple_text.txt\""
   ]
  },
  {
   "cell_type": "code",
   "execution_count": 32,
   "metadata": {},
   "outputs": [],
   "source": [
    "def count_words(path):\n",
    "    output=open(path,\"r\")\n",
    "    print(output.read())\n",
    "    \n",
    "    "
   ]
  },
  {
   "cell_type": "code",
   "execution_count": 33,
   "metadata": {},
   "outputs": [],
   "source": [
    "d=dict()\n",
    "f=list()\n",
    "def count_words(path):\n",
    "    \n",
    "    output=open(path,\"r\")\n",
    "    for line in output:\n",
    "        line=line.lower()\n",
    "        line=line.strip()\n",
    "        words=line.split(\" \")\n",
    "        for i in words:\n",
    "            f.append(i)\n",
    "    \n",
    "        for word in words:\n",
    "            if word in d:\n",
    "                d[word]+=1\n",
    "            else:\n",
    "                d[word]=1\n",
    "                \n",
    "    for key,value in sorted(d.items(),key=lambda item: item[1],reverse=True):\n",
    "        \n",
    "        print(str(key) + \":\" + str(value))\n",
    "    print(\"total word:\"+str(len(f)))\n",
    "\n",
    "        "
   ]
  },
  {
   "cell_type": "code",
   "execution_count": 34,
   "metadata": {},
   "outputs": [
    {
     "name": "stdout",
     "output_type": "stream",
     "text": [
      "hello:2\n",
      "word:2\n",
      "kamus:2\n",
      "ben:2\n",
      "try:1\n",
      "de:1\n",
      "resolve:1\n",
      "issue:1\n",
      "of:1\n",
      "count:1\n",
      "number:1\n",
      "31:1\n",
      "total word:16\n"
     ]
    }
   ],
   "source": [
    "count_words(pat)"
   ]
  },
  {
   "cell_type": "code",
   "execution_count": 24,
   "metadata": {},
   "outputs": [],
   "source": [
    "import re\n",
    "from collections import Counter\n",
    "\n",
    "def count_words_text(pat):\n",
    "    with open(pat, encoding='utf-8') as file:\n",
    "        all_words=re.findall(r\"[0-9a-zA-Z-']+\",file.read())\n",
    "        all_words= [word.lower() for word in all_words]\n",
    "        print('\\nTotal words:',len(all_words))\n",
    "        print('\\nTotal words:',all_words)\n",
    "        \n",
    "        word_counts= Counter()\n",
    "        for word in all_words:\n",
    "            word_counts[word]+=1\n",
    "            \n",
    "        print('top 20 words:')\n",
    "        for word in word_counts.most_common(20):\n",
    "            print(word[0],':',word[1])\n",
    "            \n",
    "        "
   ]
  },
  {
   "cell_type": "code",
   "execution_count": 25,
   "metadata": {},
   "outputs": [
    {
     "name": "stdout",
     "output_type": "stream",
     "text": [
      "\n",
      "Total words: 16\n",
      "\n",
      "Total words: ['hello', 'word', 'kamus', 'ben', 'ben', 'try', 'de', 'resolve', 'issue', 'of', 'count', 'number', 'word', 'hello', 'kamus', '31']\n",
      "top 20 words:\n",
      "hello : 2\n",
      "word : 2\n",
      "kamus : 2\n",
      "ben : 2\n",
      "try : 1\n",
      "de : 1\n",
      "resolve : 1\n",
      "issue : 1\n",
      "of : 1\n",
      "count : 1\n",
      "number : 1\n",
      "31 : 1\n"
     ]
    }
   ],
   "source": [
    "count_words_text(pat)"
   ]
  },
  {
   "cell_type": "code",
   "execution_count": null,
   "metadata": {},
   "outputs": [],
   "source": []
  }
 ],
 "metadata": {
  "kernelspec": {
   "display_name": "Python 3",
   "language": "python",
   "name": "python3"
  },
  "language_info": {
   "codemirror_mode": {
    "name": "ipython",
    "version": 3
   },
   "file_extension": ".py",
   "mimetype": "text/x-python",
   "name": "python",
   "nbconvert_exporter": "python",
   "pygments_lexer": "ipython3",
   "version": "3.7.3"
  }
 },
 "nbformat": 4,
 "nbformat_minor": 2
}
