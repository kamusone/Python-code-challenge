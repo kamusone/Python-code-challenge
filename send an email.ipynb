{
 "cells": [
  {
   "cell_type": "raw",
   "metadata": {},
   "source": [
    "wrire a function to send a basic email notification  \n",
    "input: receiver email adress, subject line and msg body"
   ]
  },
  {
   "cell_type": "code",
   "execution_count": null,
   "metadata": {},
   "outputs": [],
   "source": [
    "#create a gmail account and allow less secure app : ON"
   ]
  },
  {
   "cell_type": "code",
   "execution_count": null,
   "metadata": {},
   "outputs": [],
   "source": [
    "#configure a local SMTP server (simple mail transfer protocol)\n",
    "python -m smtpd -c DebuggingServer -n localhost:1025 #instead of 465 for SSL and 587 for TLS\n",
    "    #dont need to encript a communication with SSL (secure sockets layer) /TLS(transport layer security) 2 protocol used to encript a smtp connextion\n",
    " "
   ]
  },
  {
   "cell_type": "code",
   "execution_count": 9,
   "metadata": {},
   "outputs": [
    {
     "name": "stdout",
     "output_type": "stream",
     "text": [
      "Type your password and press enter: ········\n"
     ]
    }
   ],
   "source": [
    "import smtplib, ssl, getpass\n",
    "\n",
    "#configure SMTP with SSL protocol\n",
    "port = 465  # For SSL\n",
    "smtp_server = \"smtp.gmail.com\"\n",
    "\n",
    "sender_email = \"mycountfor***@gmail.com\"  # Enter your address\n",
    "#receiver_email = \"location.****@gmail.com\"  # Enter receiver address\n",
    "password = getpass.getpass(\"Type your password and press enter: \") #input or getpass to anonymize password\n",
    "#message = \"\"\"\\\n",
    "#Subject: Test from kamus\n",
    "\n",
    "#This is a test msg to send an email.\"\"\"\n",
    "def send_email(receiver_email,subject,body):\n",
    "    \n",
    "    context = ssl.create_default_context()\n",
    "    message='Subject:{}\\n\\n{}'.format(subject,body) # need 2 \\n to separate subject to body\n",
    "    with smtplib.SMTP_SSL(smtp_server, port, context=context) as server:\n",
    "        server.login(sender_email, password) #login method\n",
    "        server.sendmail(sender_email, receiver_email, message) #send email method"
   ]
  },
  {
   "cell_type": "code",
   "execution_count": 11,
   "metadata": {},
   "outputs": [],
   "source": [
    "receiver_email = \"location.****@gmail.com\"\n",
    "subject=\"test with function\"\n",
    "body=\"implement function with subject and body\"\n",
    "send_email(receiver_email,subject,body)"
   ]
  },
  {
   "cell_type": "code",
   "execution_count": null,
   "metadata": {},
   "outputs": [],
   "source": []
  }
 ],
 "metadata": {
  "kernelspec": {
   "display_name": "Python 3",
   "language": "python",
   "name": "python3"
  },
  "language_info": {
   "codemirror_mode": {
    "name": "ipython",
    "version": 3
   },
   "file_extension": ".py",
   "mimetype": "text/x-python",
   "name": "python",
   "nbconvert_exporter": "python",
   "pygments_lexer": "ipython3",
   "version": "3.7.3"
  }
 },
 "nbformat": 4,
 "nbformat_minor": 2
}
