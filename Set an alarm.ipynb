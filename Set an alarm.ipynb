{
 "cells": [
  {
   "cell_type": "raw",
   "metadata": {},
   "source": [
    "Write a function to play a sound and print a message at a set time\n",
    "the input : alarm time, sound file, message\n",
    "exp: set_alarm(time.time()+1,\"alarm.wav\",\"wake up\")"
   ]
  },
  {
   "cell_type": "code",
   "execution_count": 34,
   "metadata": {},
   "outputs": [],
   "source": [
    "import schedule\n",
    "import sched\n",
    "import time\n",
    "import winsound\n",
    "def set_alarm(alarm_time,wav_file,message):\n",
    "    s= sched.scheduler(time.time, time.sleep)\n",
    "    s.enterabs(alarm_time,1,print,argument=(message,)) # first argument\n",
    "    s.enterabs(alarm_time,1,winsound.PlaySound, argument=(wav_file,winsound.SND_FILENAME))#sec argument\n",
    "    s.run()\n",
    " \n",
    "\n",
    "    "
   ]
  },
  {
   "cell_type": "code",
   "execution_count": 35,
   "metadata": {},
   "outputs": [
    {
     "name": "stdout",
     "output_type": "stream",
     "text": [
      "wake up world\n"
     ]
    }
   ],
   "source": [
    "alarm_time=time.time()+1 # after 1 seconde\n",
    "wav_file=r\"C:/Users/kbenayad/Music/file_example_WAV.wav\"\n",
    "message= \"wake up world\"\n",
    "\n",
    "set_alarm(alarm_time,wav_file,message)\n"
   ]
  },
  {
   "cell_type": "code",
   "execution_count": 36,
   "metadata": {},
   "outputs": [
    {
     "ename": "IndentationError",
     "evalue": "unexpected indent (<ipython-input-36-7e497dfde155>, line 3)",
     "output_type": "error",
     "traceback": [
      "\u001b[1;36m  File \u001b[1;32m\"<ipython-input-36-7e497dfde155>\"\u001b[1;36m, line \u001b[1;32m3\u001b[0m\n\u001b[1;33m    alarm_time=schedule.every().day.at(\"13:19\").do(set_alarm)\u001b[0m\n\u001b[1;37m    ^\u001b[0m\n\u001b[1;31mIndentationError\u001b[0m\u001b[1;31m:\u001b[0m unexpected indent\n"
     ]
    }
   ],
   "source": [
    "#ãnother library\n",
    "    \n",
    "    alarm_time=schedule.every().day.at(\"13:19\").do(set_alarm)\n",
    "    sound\n",
    "    print(message)\n",
    "    time.sleep (10)\n",
    "    sound.stop()\n",
    "    \n",
    "    while True:\n",
    "\n",
    "        schedule.run_pending()\n",
    "        time.sleep(1)\n",
    "        "
   ]
  },
  {
   "cell_type": "code",
   "execution_count": null,
   "metadata": {},
   "outputs": [],
   "source": [
    "import schedule\n",
    "import time\n",
    "\n",
    "def job():\n",
    "    print(\"I'm working...\")\n",
    "\n",
    "schedule.every().day.at(\"12:43\").do(job)\n",
    "\n",
    "\n",
    "while True:\n",
    "    schedule.run_pending()\n",
    "    time.sleep(1)"
   ]
  },
  {
   "cell_type": "code",
   "execution_count": 16,
   "metadata": {},
   "outputs": [
    {
     "name": "stdout",
     "output_type": "stream",
     "text": [
      "Collecting schedule\n",
      "  Downloading https://files.pythonhosted.org/packages/57/22/3a709462eb02412bd1145f6e53604f36bba191e3e4e397bea4a718fec38c/schedule-0.6.0-py2.py3-none-any.whl\n",
      "Installing collected packages: schedule\n",
      "Successfully installed schedule-0.6.0\n"
     ]
    }
   ],
   "source": [
    "!pip install schedule"
   ]
  },
  {
   "cell_type": "code",
   "execution_count": null,
   "metadata": {},
   "outputs": [],
   "source": []
  }
 ],
 "metadata": {
  "kernelspec": {
   "display_name": "Python 3",
   "language": "python",
   "name": "python3"
  },
  "language_info": {
   "codemirror_mode": {
    "name": "ipython",
    "version": 3
   },
   "file_extension": ".py",
   "mimetype": "text/x-python",
   "name": "python",
   "nbconvert_exporter": "python",
   "pygments_lexer": "ipython3",
   "version": "3.7.3"
  }
 },
 "nbformat": 4,
 "nbformat_minor": 2
}
