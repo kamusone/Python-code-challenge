{
 "cells": [
  {
   "cell_type": "raw",
   "metadata": {},
   "source": [
    "Find indice for all items in the list that are equal\n",
    "exp ==> input : [[[1,2,3],2,[1,3]],[1,2,3]]\n",
    "        output: [[0,0,1],[0,1],[1,1]   "
   ]
  },
  {
   "cell_type": "code",
   "execution_count": 34,
   "metadata": {},
   "outputs": [],
   "source": [
    "def get_all_index(search_list,item):\n",
    "    indice=list()\n",
    "    for i in range(len(search_list)):\n",
    "        if search_list[i]==item:\n",
    "            indice.append([i])\n",
    "        elif isinstance(search_list[i],list):\n",
    "            for index in get_all_index(search_list[i],item):\n",
    "                indice.append([i]+index)\n",
    "    return indice"
   ]
  },
  {
   "cell_type": "code",
   "execution_count": 36,
   "metadata": {},
   "outputs": [
    {
     "data": {
      "text/plain": [
       "[[0, 0, 1], [0, 1], [1, 1]]"
      ]
     },
     "execution_count": 36,
     "metadata": {},
     "output_type": "execute_result"
    }
   ],
   "source": [
    "liste=[[[1,2,3],2,[1,3]],[1,2,3]]\n",
    "get_all_index(liste,2)"
   ]
  },
  {
   "cell_type": "code",
   "execution_count": null,
   "metadata": {},
   "outputs": [],
   "source": []
  }
 ],
 "metadata": {
  "kernelspec": {
   "display_name": "Python 3",
   "language": "python",
   "name": "python3"
  },
  "language_info": {
   "codemirror_mode": {
    "name": "ipython",
    "version": 3
   },
   "file_extension": ".py",
   "mimetype": "text/x-python",
   "name": "python",
   "nbconvert_exporter": "python",
   "pygments_lexer": "ipython3",
   "version": "3.7.3"
  }
 },
 "nbformat": 4,
 "nbformat_minor": 2
}
