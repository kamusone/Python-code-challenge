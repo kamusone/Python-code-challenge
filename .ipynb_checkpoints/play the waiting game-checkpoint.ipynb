{
 "cells": [
  {
   "cell_type": "raw",
   "metadata": {},
   "source": [
    "define a target time exp: 4 seconds\n",
    "press enter to begin\n",
    "press enter to finish\n",
    "Elapsed time is printed ==> too fast or too slow or right on target"
   ]
  },
  {
   "cell_type": "code",
   "execution_count": 100,
   "metadata": {},
   "outputs": [],
   "source": [
    "import random\n",
    "from time import perf_counter\n",
    "def wainting_game():\n",
    "    #define target\n",
    "    target= random.randint(1,5)\n",
    "    print(\"your target time is {} seconds\".format(target))\n",
    "    \n",
    "    start_input=input(\"press enter to begin...\")\n",
    "    start =time.perf_counter()\n",
    "    \n",
    "    stop_input=input(\"press inter again to stop...\")\n",
    "    elapsed=time.perf_counter()-start\n",
    "    print(\"elapsed time: {0:.3f}\".format(elapsed))\n",
    "    \n",
    "    if elapsed == target:\n",
    "        print(\"well done you click like a cowboy\")\n",
    "    elif elapsed < target:\n",
    "        print(\"it's {0:.3f} seconds slow\".format(target-elapsed))\n",
    "    elif elapsed > target:\n",
    "        print(\"it's {0:.3f} seconds fast\".format(elapsed-target))"
   ]
  },
  {
   "cell_type": "code",
   "execution_count": 101,
   "metadata": {},
   "outputs": [
    {
     "name": "stdout",
     "output_type": "stream",
     "text": [
      "your target time is 2 seconds\n",
      "press enter to begin...\n",
      "press inter again to stop...\n",
      "elapsed time: 1.697\n",
      "it's 0.303 seconds slow\n"
     ]
    }
   ],
   "source": [
    "wainting_game()"
   ]
  },
  {
   "cell_type": "code",
   "execution_count": null,
   "metadata": {},
   "outputs": [],
   "source": []
  },
  {
   "cell_type": "code",
   "execution_count": null,
   "metadata": {},
   "outputs": [],
   "source": []
  }
 ],
 "metadata": {
  "kernelspec": {
   "display_name": "Python 3",
   "language": "python",
   "name": "python3"
  },
  "language_info": {
   "codemirror_mode": {
    "name": "ipython",
    "version": 3
   },
   "file_extension": ".py",
   "mimetype": "text/x-python",
   "name": "python",
   "nbconvert_exporter": "python",
   "pygments_lexer": "ipython3",
   "version": "3.7.3"
  }
 },
 "nbformat": 4,
 "nbformat_minor": 2
}
